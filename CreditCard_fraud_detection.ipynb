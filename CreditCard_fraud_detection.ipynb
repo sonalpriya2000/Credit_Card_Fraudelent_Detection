{
  "nbformat": 4,
  "nbformat_minor": 0,
  "metadata": {
    "colab": {
      "name": "CreditCard_fraud detection ",
      "provenance": [],
      "collapsed_sections": []
    },
    "kernelspec": {
      "name": "python3",
      "display_name": "Python 3"
    }
  },
  "cells": [
    {
      "cell_type": "code",
      "metadata": {
        "id": "sMcXSZ4x0AfG"
      },
      "source": [
        "# Importing  the reuired packages and libraries\r\n",
        "import pandas as pd\r\n",
        "import numpy as np\r\n",
        "import matplotlib.pyplot as plt\r\n",
        "import seaborn as sns\r\n",
        "from sklearn.preprocessing import StandardScaler\r\n",
        "from sklearn.model_selection import train_test_split\r\n",
        "from sklearn.linear_model import LogisticRegression\r\n",
        "from sklearn.ensemble import RandomForestClassifier\r\n",
        "from sklearn.tree import DecisionTreeClassifier \r\n",
        "from sklearn.neighbors import KNeighborsClassifier\r\n",
        "from sklearn.metrics import classification_report\r\n",
        "from sklearn.metrics import precision_score, recall_score,accuracy_score,confusion_matrix,f1_score\r\n",
        "from imblearn.over_sampling import SMOTE"
      ],
      "execution_count": 50,
      "outputs": []
    },
    {
      "cell_type": "code",
      "metadata": {
        "colab": {
          "base_uri": "https://localhost:8080/",
          "height": 215
        },
        "id": "685yjA6J0_Rr",
        "outputId": "ced1d03a-3074-4299-dd54-0d07ac5b6fff"
      },
      "source": [
        "# Importing the data\r\n",
        "data=pd.read_csv('/content/TRAIN.csv')\r\n",
        "data.head()"
      ],
      "execution_count": 51,
      "outputs": [
        {
          "output_type": "execute_result",
          "data": {
            "text/html": [
              "<div>\n",
              "<style scoped>\n",
              "    .dataframe tbody tr th:only-of-type {\n",
              "        vertical-align: middle;\n",
              "    }\n",
              "\n",
              "    .dataframe tbody tr th {\n",
              "        vertical-align: top;\n",
              "    }\n",
              "\n",
              "    .dataframe thead th {\n",
              "        text-align: right;\n",
              "    }\n",
              "</style>\n",
              "<table border=\"1\" class=\"dataframe\">\n",
              "  <thead>\n",
              "    <tr style=\"text-align: right;\">\n",
              "      <th></th>\n",
              "      <th>Index</th>\n",
              "      <th>V1</th>\n",
              "      <th>V2</th>\n",
              "      <th>V3</th>\n",
              "      <th>V4</th>\n",
              "      <th>V5</th>\n",
              "      <th>V6</th>\n",
              "      <th>V7</th>\n",
              "      <th>V8</th>\n",
              "      <th>V9</th>\n",
              "      <th>V10</th>\n",
              "      <th>V11</th>\n",
              "      <th>V12</th>\n",
              "      <th>V13</th>\n",
              "      <th>V14</th>\n",
              "      <th>V15</th>\n",
              "      <th>V16</th>\n",
              "      <th>V17</th>\n",
              "      <th>V18</th>\n",
              "      <th>V19</th>\n",
              "      <th>V20</th>\n",
              "      <th>V21</th>\n",
              "      <th>V22</th>\n",
              "      <th>V23</th>\n",
              "      <th>V24</th>\n",
              "      <th>V25</th>\n",
              "      <th>V26</th>\n",
              "      <th>V27</th>\n",
              "      <th>V28</th>\n",
              "      <th>Amount</th>\n",
              "      <th>Class</th>\n",
              "    </tr>\n",
              "  </thead>\n",
              "  <tbody>\n",
              "    <tr>\n",
              "      <th>0</th>\n",
              "      <td>0</td>\n",
              "      <td>2.245295</td>\n",
              "      <td>-1.160960</td>\n",
              "      <td>-1.966682</td>\n",
              "      <td>-1.430190</td>\n",
              "      <td>-0.607246</td>\n",
              "      <td>-1.508696</td>\n",
              "      <td>-0.074415</td>\n",
              "      <td>-0.655096</td>\n",
              "      <td>-1.970141</td>\n",
              "      <td>1.607283</td>\n",
              "      <td>-0.780267</td>\n",
              "      <td>-0.294928</td>\n",
              "      <td>1.236719</td>\n",
              "      <td>-0.135565</td>\n",
              "      <td>-0.832677</td>\n",
              "      <td>-1.400205</td>\n",
              "      <td>0.807960</td>\n",
              "      <td>-0.670317</td>\n",
              "      <td>-0.044106</td>\n",
              "      <td>-0.292081</td>\n",
              "      <td>0.010490</td>\n",
              "      <td>0.521714</td>\n",
              "      <td>-0.064971</td>\n",
              "      <td>0.048849</td>\n",
              "      <td>0.383290</td>\n",
              "      <td>0.103970</td>\n",
              "      <td>-0.047350</td>\n",
              "      <td>-0.064800</td>\n",
              "      <td>74.75</td>\n",
              "      <td>0</td>\n",
              "    </tr>\n",
              "    <tr>\n",
              "      <th>1</th>\n",
              "      <td>1</td>\n",
              "      <td>1.278609</td>\n",
              "      <td>0.102574</td>\n",
              "      <td>0.512079</td>\n",
              "      <td>0.003930</td>\n",
              "      <td>-0.723474</td>\n",
              "      <td>-1.334105</td>\n",
              "      <td>0.029958</td>\n",
              "      <td>-0.296595</td>\n",
              "      <td>0.128119</td>\n",
              "      <td>-0.209865</td>\n",
              "      <td>0.188511</td>\n",
              "      <td>0.674525</td>\n",
              "      <td>0.712608</td>\n",
              "      <td>0.122319</td>\n",
              "      <td>1.038024</td>\n",
              "      <td>0.128638</td>\n",
              "      <td>-0.222614</td>\n",
              "      <td>-0.687546</td>\n",
              "      <td>-0.056504</td>\n",
              "      <td>-0.040015</td>\n",
              "      <td>-0.081470</td>\n",
              "      <td>-0.182506</td>\n",
              "      <td>0.078986</td>\n",
              "      <td>0.789993</td>\n",
              "      <td>0.219794</td>\n",
              "      <td>0.938359</td>\n",
              "      <td>-0.078720</td>\n",
              "      <td>0.008119</td>\n",
              "      <td>1.38</td>\n",
              "      <td>0</td>\n",
              "    </tr>\n",
              "    <tr>\n",
              "      <th>2</th>\n",
              "      <td>2</td>\n",
              "      <td>1.466457</td>\n",
              "      <td>0.026088</td>\n",
              "      <td>-0.499298</td>\n",
              "      <td>-0.674372</td>\n",
              "      <td>-0.144883</td>\n",
              "      <td>-1.178075</td>\n",
              "      <td>0.058089</td>\n",
              "      <td>-0.420145</td>\n",
              "      <td>-1.359651</td>\n",
              "      <td>0.210249</td>\n",
              "      <td>-0.033777</td>\n",
              "      <td>-0.001594</td>\n",
              "      <td>1.767471</td>\n",
              "      <td>-1.212943</td>\n",
              "      <td>0.427684</td>\n",
              "      <td>1.252714</td>\n",
              "      <td>0.843412</td>\n",
              "      <td>-1.534474</td>\n",
              "      <td>0.830734</td>\n",
              "      <td>0.207653</td>\n",
              "      <td>-0.234087</td>\n",
              "      <td>-0.710542</td>\n",
              "      <td>-0.001242</td>\n",
              "      <td>-0.174713</td>\n",
              "      <td>0.533719</td>\n",
              "      <td>-0.454779</td>\n",
              "      <td>0.001524</td>\n",
              "      <td>0.030935</td>\n",
              "      <td>10.95</td>\n",
              "      <td>0</td>\n",
              "    </tr>\n",
              "    <tr>\n",
              "      <th>3</th>\n",
              "      <td>3</td>\n",
              "      <td>-0.922137</td>\n",
              "      <td>-0.371579</td>\n",
              "      <td>2.132018</td>\n",
              "      <td>-0.796997</td>\n",
              "      <td>0.324175</td>\n",
              "      <td>-1.162006</td>\n",
              "      <td>0.277208</td>\n",
              "      <td>-0.249586</td>\n",
              "      <td>-0.775648</td>\n",
              "      <td>-0.061757</td>\n",
              "      <td>-0.959725</td>\n",
              "      <td>0.408746</td>\n",
              "      <td>0.597641</td>\n",
              "      <td>-0.802430</td>\n",
              "      <td>-1.889520</td>\n",
              "      <td>-1.607785</td>\n",
              "      <td>-0.401475</td>\n",
              "      <td>0.729773</td>\n",
              "      <td>-2.445693</td>\n",
              "      <td>-0.461062</td>\n",
              "      <td>-0.302654</td>\n",
              "      <td>-0.246899</td>\n",
              "      <td>-0.045745</td>\n",
              "      <td>0.677110</td>\n",
              "      <td>0.016109</td>\n",
              "      <td>-0.734220</td>\n",
              "      <td>-0.034480</td>\n",
              "      <td>-0.064786</td>\n",
              "      <td>8.04</td>\n",
              "      <td>0</td>\n",
              "    </tr>\n",
              "    <tr>\n",
              "      <th>4</th>\n",
              "      <td>4</td>\n",
              "      <td>-1.166525</td>\n",
              "      <td>0.255439</td>\n",
              "      <td>2.108464</td>\n",
              "      <td>0.135019</td>\n",
              "      <td>-0.072979</td>\n",
              "      <td>0.910821</td>\n",
              "      <td>0.755918</td>\n",
              "      <td>0.355528</td>\n",
              "      <td>-0.422820</td>\n",
              "      <td>-0.842826</td>\n",
              "      <td>0.663538</td>\n",
              "      <td>0.624657</td>\n",
              "      <td>0.107262</td>\n",
              "      <td>-0.073654</td>\n",
              "      <td>-0.305506</td>\n",
              "      <td>0.618642</td>\n",
              "      <td>-0.952529</td>\n",
              "      <td>0.757618</td>\n",
              "      <td>-0.375461</td>\n",
              "      <td>0.353355</td>\n",
              "      <td>0.136470</td>\n",
              "      <td>0.017496</td>\n",
              "      <td>0.121017</td>\n",
              "      <td>0.636266</td>\n",
              "      <td>0.492943</td>\n",
              "      <td>-0.750242</td>\n",
              "      <td>0.029124</td>\n",
              "      <td>0.091303</td>\n",
              "      <td>175.00</td>\n",
              "      <td>0</td>\n",
              "    </tr>\n",
              "  </tbody>\n",
              "</table>\n",
              "</div>"
            ],
            "text/plain": [
              "   Index        V1        V2        V3  ...       V27       V28  Amount  Class\n",
              "0      0  2.245295 -1.160960 -1.966682  ... -0.047350 -0.064800   74.75      0\n",
              "1      1  1.278609  0.102574  0.512079  ... -0.078720  0.008119    1.38      0\n",
              "2      2  1.466457  0.026088 -0.499298  ...  0.001524  0.030935   10.95      0\n",
              "3      3 -0.922137 -0.371579  2.132018  ... -0.034480 -0.064786    8.04      0\n",
              "4      4 -1.166525  0.255439  2.108464  ...  0.029124  0.091303  175.00      0\n",
              "\n",
              "[5 rows x 31 columns]"
            ]
          },
          "metadata": {
            "tags": []
          },
          "execution_count": 51
        }
      ]
    },
    {
      "cell_type": "code",
      "metadata": {
        "colab": {
          "base_uri": "https://localhost:8080/"
        },
        "id": "QgFmDhlOdjfQ",
        "outputId": "8fec3729-2832-4a94-b424-1898cc592dc6"
      },
      "source": [
        "# different columns in dataset\r\n",
        "data.columns"
      ],
      "execution_count": 52,
      "outputs": [
        {
          "output_type": "execute_result",
          "data": {
            "text/plain": [
              "Index(['Index', 'V1', 'V2', 'V3', 'V4', 'V5', 'V6', 'V7', 'V8', 'V9', 'V10',\n",
              "       'V11', 'V12', 'V13', 'V14', 'V15', 'V16', 'V17', 'V18', 'V19', 'V20',\n",
              "       'V21', 'V22', 'V23', 'V24', 'V25', 'V26', 'V27', 'V28', 'Amount',\n",
              "       'Class'],\n",
              "      dtype='object')"
            ]
          },
          "metadata": {
            "tags": []
          },
          "execution_count": 52
        }
      ]
    },
    {
      "cell_type": "code",
      "metadata": {
        "colab": {
          "base_uri": "https://localhost:8080/"
        },
        "id": "rtSigxeUduc9",
        "outputId": "5e1419c8-dfd3-49ea-c45a-82b3e0624dc2"
      },
      "source": [
        "data.info()"
      ],
      "execution_count": 53,
      "outputs": [
        {
          "output_type": "stream",
          "text": [
            "<class 'pandas.core.frame.DataFrame'>\n",
            "RangeIndex: 284455 entries, 0 to 284454\n",
            "Data columns (total 31 columns):\n",
            " #   Column  Non-Null Count   Dtype  \n",
            "---  ------  --------------   -----  \n",
            " 0   Index   284455 non-null  int64  \n",
            " 1   V1      284455 non-null  float64\n",
            " 2   V2      284455 non-null  float64\n",
            " 3   V3      284455 non-null  float64\n",
            " 4   V4      284455 non-null  float64\n",
            " 5   V5      284455 non-null  float64\n",
            " 6   V6      284455 non-null  float64\n",
            " 7   V7      284455 non-null  float64\n",
            " 8   V8      284455 non-null  float64\n",
            " 9   V9      284455 non-null  float64\n",
            " 10  V10     284455 non-null  float64\n",
            " 11  V11     284455 non-null  float64\n",
            " 12  V12     284455 non-null  float64\n",
            " 13  V13     284455 non-null  float64\n",
            " 14  V14     284455 non-null  float64\n",
            " 15  V15     284455 non-null  float64\n",
            " 16  V16     284455 non-null  float64\n",
            " 17  V17     284455 non-null  float64\n",
            " 18  V18     284455 non-null  float64\n",
            " 19  V19     284455 non-null  float64\n",
            " 20  V20     284455 non-null  float64\n",
            " 21  V21     284455 non-null  float64\n",
            " 22  V22     284455 non-null  float64\n",
            " 23  V23     284455 non-null  float64\n",
            " 24  V24     284455 non-null  float64\n",
            " 25  V25     284455 non-null  float64\n",
            " 26  V26     284455 non-null  float64\n",
            " 27  V27     284455 non-null  float64\n",
            " 28  V28     284455 non-null  float64\n",
            " 29  Amount  284455 non-null  float64\n",
            " 30  Class   284455 non-null  int64  \n",
            "dtypes: float64(29), int64(2)\n",
            "memory usage: 67.3 MB\n"
          ],
          "name": "stdout"
        }
      ]
    },
    {
      "cell_type": "markdown",
      "metadata": {
        "id": "2VEAu4RpkNxT"
      },
      "source": [
        "# **Data Processing and EDA**\r\n"
      ]
    },
    {
      "cell_type": "code",
      "metadata": {
        "colab": {
          "base_uri": "https://localhost:8080/"
        },
        "id": "DcSGyi5XJn22",
        "outputId": "b4de26cb-033a-4bea-801e-bebc16f8c45c"
      },
      "source": [
        "# Total no. of cases present in each class\r\n",
        "Total_cases =len(data)\r\n",
        "nonfraud_count =len(data[data.Class == 0])\r\n",
        "fraud_count =len(data[data.Class == 1])\r\n",
        "print(f'Total no. of cases   {Total_cases}')\r\n",
        "print(f'Total no. of fraud cases    {fraud_count}')\r\n",
        "print(f'Total no. of Non_fraud cases    {nonfraud_count}')"
      ],
      "execution_count": 54,
      "outputs": [
        {
          "output_type": "stream",
          "text": [
            "Total no. of cases   284455\n",
            "Total no. of fraud cases    440\n",
            "Total no. of Non_fraud cases    284015\n"
          ],
          "name": "stdout"
        }
      ]
    },
    {
      "cell_type": "code",
      "metadata": {
        "colab": {
          "base_uri": "https://localhost:8080/"
        },
        "id": "Laa_uaG_NPuT",
        "outputId": "ebe5c69b-6dec-457e-c672-7bed5837a839"
      },
      "source": [
        "#Classifying the data as fraud and Non-fraud by assigning the class as 1 or 0\r\n",
        "nonfraud_cases = data[data.Class == 0]\r\n",
        "fraud_cases = data[data.Class == 1]\r\n",
        "print(\"NonFraud Case Amount Statistics\" )\r\n",
        "print(nonfraud_cases.Amount.describe())\r\n",
        "print(\"fraud_cases Amount Staticstics\")\r\n",
        "print(fraud_cases.Amount.describe())\r\n"
      ],
      "execution_count": 55,
      "outputs": [
        {
          "output_type": "stream",
          "text": [
            "NonFraud Case Amount Statistics\n",
            "count    284015.000000\n",
            "mean         88.313070\n",
            "std         250.182582\n",
            "min           0.000000\n",
            "25%           5.650000\n",
            "50%          22.000000\n",
            "75%          77.050000\n",
            "max       25691.160000\n",
            "Name: Amount, dtype: float64\n",
            "fraud_cases Amount Staticstics\n",
            "count     440.000000\n",
            "mean      118.423773\n",
            "std       245.493158\n",
            "min         0.000000\n",
            "25%         1.000000\n",
            "50%         9.170000\n",
            "75%       106.130000\n",
            "max      2125.870000\n",
            "Name: Amount, dtype: float64\n"
          ],
          "name": "stdout"
        }
      ]
    },
    {
      "cell_type": "code",
      "metadata": {
        "colab": {
          "base_uri": "https://localhost:8080/"
        },
        "id": "zT4FJ_egdSId",
        "outputId": "7309f88d-55fb-4f9b-8130-7e35f2f5470e"
      },
      "source": [
        "sc = StandardScaler()\r\n",
        "amount = data['Amount'].values\r\n",
        "data['Amount']= sc.fit_transform(amount.reshape(-1,1))\r\n",
        "print(data['Amount'].head(10))"
      ],
      "execution_count": 56,
      "outputs": [
        {
          "output_type": "stream",
          "text": [
            "0   -0.054400\n",
            "1   -0.347672\n",
            "2   -0.309419\n",
            "3   -0.321051\n",
            "4    0.346316\n",
            "5   -0.237070\n",
            "6   -0.315974\n",
            "7   -0.229276\n",
            "8   -0.287555\n",
            "9   -0.241947\n",
            "Name: Amount, dtype: float64\n"
          ],
          "name": "stdout"
        }
      ]
    },
    {
      "cell_type": "markdown",
      "metadata": {
        "id": "etgvsUD9Kei8"
      },
      "source": [
        "# **Feature Selection and Data split**\r\n",
        "\r\n",
        "\r\n"
      ]
    },
    {
      "cell_type": "code",
      "metadata": {
        "colab": {
          "base_uri": "https://localhost:8080/"
        },
        "id": "sUAYc39he6Cd",
        "outputId": "603fc42d-9bb1-4ecb-ef96-ad3a3b0264bf"
      },
      "source": [
        "x = data.drop('Class',axis = 1).values\r\n",
        "y = data['Class'].values\r\n",
        "#Train_test_split\r\n",
        "X_train, X_test, y_train, y_test = train_test_split(x,y , test_size =0.2,random_state =0)\r\n",
        "\r\n",
        "print(f'X_train_Sample  :   {X_train}') \r\n",
        "print(f'X_test_Sample   :   {y_test}')\r\n",
        "print(f'Y_train_sample  :   {y_train}')\r\n",
        "print(f'Y_test_sample   :   {y_test}')\r\n",
        "\r\n"
      ],
      "execution_count": 57,
      "outputs": [
        {
          "output_type": "stream",
          "text": [
            "X_train_Sample  :   [[ 6.75390000e+04  2.03290251e+00  8.72104658e-02 ... -2.68770997e-03\n",
            "  -5.63309355e-02 -3.49190894e-01]\n",
            " [ 7.43990000e+04  1.42471913e+00 -6.40710760e-01 ... -2.80971140e-02\n",
            "  -1.72212258e-02 -2.73244764e-01]\n",
            " [ 8.84200000e+04 -2.12968987e+00  1.32652086e+00 ...  6.81433878e-01\n",
            "   4.51243274e-01  4.64884409e-02]\n",
            " ...\n",
            " [ 1.22579000e+05 -1.31066539e+00  1.62559754e+00 ... -6.24072031e-01\n",
            "   4.29722435e-02 -3.53188058e-01]\n",
            " [ 1.52315000e+05 -1.01555239e+00 -7.96095303e-01 ...  4.91034029e-03\n",
            "   5.18016397e-02 -2.92710956e-01]\n",
            " [ 1.17952000e+05  6.87872620e-01 -1.36790890e+00 ... -9.36404094e-02\n",
            "   4.31728942e-02  8.64907915e-01]]\n",
            "X_test_Sample   :   [0 0 0 ... 0 0 0]\n",
            "Y_train_sample  :   [0 0 0 ... 0 0 0]\n",
            "Y_test_sample   :   [0 0 0 ... 0 0 0]\n"
          ],
          "name": "stdout"
        }
      ]
    },
    {
      "cell_type": "markdown",
      "metadata": {
        "id": "TApADvvijk_L"
      },
      "source": [
        "# **Data Modeling & Evaluation of matrix**\r\n",
        "\r\n"
      ]
    },
    {
      "cell_type": "code",
      "metadata": {
        "id": "jdkZ1iY8hVDx",
        "colab": {
          "base_uri": "https://localhost:8080/"
        },
        "outputId": "9e324e2c-2089-4d4d-c625-2ffb4378713e"
      },
      "source": [
        "#Random forest Classifier\r\n",
        "from sklearn.ensemble import RandomForestClassifier\r\n",
        "clf_rf = RandomForestClassifier(random_state=55)\r\n",
        "clf_rf.fit(X_train, y_train)\r\n",
        "print(clf_rf)\r\n"
      ],
      "execution_count": 58,
      "outputs": [
        {
          "output_type": "stream",
          "text": [
            "RandomForestClassifier(bootstrap=True, ccp_alpha=0.0, class_weight=None,\n",
            "                       criterion='gini', max_depth=None, max_features='auto',\n",
            "                       max_leaf_nodes=None, max_samples=None,\n",
            "                       min_impurity_decrease=0.0, min_impurity_split=None,\n",
            "                       min_samples_leaf=1, min_samples_split=2,\n",
            "                       min_weight_fraction_leaf=0.0, n_estimators=100,\n",
            "                       n_jobs=None, oob_score=False, random_state=55, verbose=0,\n",
            "                       warm_start=False)\n"
          ],
          "name": "stdout"
        }
      ]
    },
    {
      "cell_type": "code",
      "metadata": {
        "id": "GAr_YZspVMDJ",
        "colab": {
          "base_uri": "https://localhost:8080/"
        },
        "outputId": "62c280ce-5c0a-4078-a8d9-9df147f5c4f2"
      },
      "source": [
        "y_pred=clf_rf.predict(X_test)\r\n",
        "y_pred"
      ],
      "execution_count": 59,
      "outputs": [
        {
          "output_type": "execute_result",
          "data": {
            "text/plain": [
              "array([0, 0, 0, ..., 0, 0, 0])"
            ]
          },
          "metadata": {
            "tags": []
          },
          "execution_count": 59
        }
      ]
    },
    {
      "cell_type": "code",
      "metadata": {
        "colab": {
          "base_uri": "https://localhost:8080/",
          "height": 482
        },
        "id": "Z1UIWRJ-USWI",
        "outputId": "a48a8d0d-b6d6-4de0-a817-5856a8bde0b0"
      },
      "source": [
        "print(\"Confusion Matrix\")\r\n",
        "print(confusion_matrix(y_test,y_pred))\r\n",
        "print(\"Accuracy of rf Model:\")\r\n",
        "print(accuracy_score(y_test, y_pred))\r\n",
        "print(\"Precision of rf Model:\")\r\n",
        "print (precision_score(y_test, y_pred))\r\n",
        "print (\"Recall of rf Model:\" )\r\n",
        "print( recall_score(y_test, y_pred))\r\n",
        "print (\"F1 Score of rf Model:\")\r\n",
        "print (f1_score(y_test, y_pred))\r\n",
        "confusion_matrix_data=pd.crosstab(y_test,y_pred,rownames=['Actual_Case'],colnames=['Predicted_Case'])\r\n",
        "sns.heatmap(confusion_matrix_data,annot=True)"
      ],
      "execution_count": 60,
      "outputs": [
        {
          "output_type": "stream",
          "text": [
            "Confusion Matrix\n",
            "[[56793     2]\n",
            " [   21    75]]\n",
            "Accuracy of rf Model:\n",
            "0.9995957181276476\n",
            "Precision of rf Model:\n",
            "0.974025974025974\n",
            "Recall of rf Model:\n",
            "0.78125\n",
            "F1 Score of rf Model:\n",
            "0.8670520231213873\n"
          ],
          "name": "stdout"
        },
        {
          "output_type": "execute_result",
          "data": {
            "text/plain": [
              "<matplotlib.axes._subplots.AxesSubplot at 0x7f8e9086d6a0>"
            ]
          },
          "metadata": {
            "tags": []
          },
          "execution_count": 60
        },
        {
          "output_type": "display_data",
          "data": {
            "image/png": "[encoded data removed]",
            "text/plain": [
              "<Figure size 432x288 with 2 Axes>"
            ]
          },
          "metadata": {
            "tags": [],
            "needs_background": "light"
          }
        }
      ]
    },
    {
      "cell_type": "code",
      "metadata": {
        "colab": {
          "base_uri": "https://localhost:8080/"
        },
        "id": "Sjvc0tQGVIsx",
        "outputId": "3ce446d3-0771-42a3-b9b2-0089a23f03a5"
      },
      "source": [
        "#Logistic Regression\r\n",
        "from sklearn.linear_model import LogisticRegression\r\n",
        "lr_model=LogisticRegression(random_state=55)\r\n",
        "lr_model.fit(X_train, y_train)"
      ],
      "execution_count": 61,
      "outputs": [
        {
          "output_type": "stream",
          "text": [
            "/usr/local/lib/python3.6/dist-packages/sklearn/linear_model/_logistic.py:940: ConvergenceWarning: lbfgs failed to converge (status=1):\n",
            "STOP: TOTAL NO. of ITERATIONS REACHED LIMIT.\n",
            "\n",
            "Increase the number of iterations (max_iter) or scale the data as shown in:\n",
            "    https://scikit-learn.org/stable/modules/preprocessing.html\n",
            "Please also refer to the documentation for alternative solver options:\n",
            "    https://scikit-learn.org/stable/modules/linear_model.html#logistic-regression\n",
            "  extra_warning_msg=_LOGISTIC_SOLVER_CONVERGENCE_MSG)\n"
          ],
          "name": "stderr"
        },
        {
          "output_type": "execute_result",
          "data": {
            "text/plain": [
              "LogisticRegression(C=1.0, class_weight=None, dual=False, fit_intercept=True,\n",
              "                   intercept_scaling=1, l1_ratio=None, max_iter=100,\n",
              "                   multi_class='auto', n_jobs=None, penalty='l2',\n",
              "                   random_state=55, solver='lbfgs', tol=0.0001, verbose=0,\n",
              "                   warm_start=False)"
            ]
          },
          "metadata": {
            "tags": []
          },
          "execution_count": 61
        }
      ]
    },
    {
      "cell_type": "code",
      "metadata": {
        "colab": {
          "base_uri": "https://localhost:8080/"
        },
        "id": "QwJ4faNJZhhZ",
        "outputId": "ad07ea07-c9df-4b5f-a075-b46877c8b838"
      },
      "source": [
        "y_pred = lr_model.predict(X_test)\r\n",
        "y_pred"
      ],
      "execution_count": 62,
      "outputs": [
        {
          "output_type": "execute_result",
          "data": {
            "text/plain": [
              "array([0, 0, 0, ..., 0, 0, 0])"
            ]
          },
          "metadata": {
            "tags": []
          },
          "execution_count": 62
        }
      ]
    },
    {
      "cell_type": "code",
      "metadata": {
        "colab": {
          "base_uri": "https://localhost:8080/",
          "height": 482
        },
        "id": "U8vfNBEkeY0F",
        "outputId": "0f135c32-a4d0-4809-b6f6-4b6a2c7e5c5f"
      },
      "source": [
        "print(\"Confusion Matrix\")\r\n",
        "print(confusion_matrix(y_test,y_pred))\r\n",
        "print(\"Accuracy of rf Model:\")\r\n",
        "print(accuracy_score(y_test, y_pred))\r\n",
        "print(\"Precision of rf Model:\")\r\n",
        "print (precision_score(y_test, y_pred))\r\n",
        "print (\"Recall of rf Model:\" )\r\n",
        "print( recall_score(y_test, y_pred))\r\n",
        "print (\"F1 Score of rf Model:\")\r\n",
        "print (f1_score(y_test, y_pred))\r\n",
        "confusion_matrix_data=pd.crosstab(y_test,y_pred,rownames=['Actual_Case'],colnames=['Predicted_Case'])\r\n",
        "sns.heatmap(confusion_matrix_data,annot=True)"
      ],
      "execution_count": 63,
      "outputs": [
        {
          "output_type": "stream",
          "text": [
            "Confusion Matrix\n",
            "[[56784    11]\n",
            " [   17    79]]\n",
            "Accuracy of rf Model:\n",
            "0.9995078307640928\n",
            "Precision of rf Model:\n",
            "0.8777777777777778\n",
            "Recall of rf Model:\n",
            "0.8229166666666666\n",
            "F1 Score of rf Model:\n",
            "0.8494623655913979\n"
          ],
          "name": "stdout"
        },
        {
          "output_type": "execute_result",
          "data": {
            "text/plain": [
              "<matplotlib.axes._subplots.AxesSubplot at 0x7f8e90869828>"
            ]
          },
          "metadata": {
            "tags": []
          },
          "execution_count": 63
        },
        {
          "output_type": "display_data",
          "data": {
            "image/png": "[encoded data removed]",
            "text/plain": [
              "<Figure size 432x288 with 2 Axes>"
            ]
          },
          "metadata": {
            "tags": [],
            "needs_background": "light"
          }
        }
      ]
    },
    {
      "cell_type": "code",
      "metadata": {
        "colab": {
          "base_uri": "https://localhost:8080/"
        },
        "id": "gfH_kvdlefHl",
        "outputId": "4dbbf314-2dc7-416b-b561-e6914de4c522"
      },
      "source": [
        "# Decision Tree Algorithim\r\n",
        "tree_model = DecisionTreeClassifier(max_depth = 4, criterion = 'entropy')\r\n",
        "tree_model.fit(X_train, y_train)\r\n",
        "tree_yhat = tree_model.predict(X_test)\r\n",
        "y_pred_tree = tree_model.predict(X_test)\r\n",
        "y_pred_tree"
      ],
      "execution_count": 64,
      "outputs": [
        {
          "output_type": "execute_result",
          "data": {
            "text/plain": [
              "array([0, 0, 0, ..., 0, 0, 0])"
            ]
          },
          "metadata": {
            "tags": []
          },
          "execution_count": 64
        }
      ]
    },
    {
      "cell_type": "code",
      "metadata": {
        "colab": {
          "base_uri": "https://localhost:8080/",
          "height": 482
        },
        "id": "4CyhMZUSi796",
        "outputId": "71ad1c3c-74b1-47fa-fbc0-d35d49da272e"
      },
      "source": [
        "print(\"Confusion Matrix\")\r\n",
        "print(confusion_matrix(y_test,y_pred_tree))\r\n",
        "print(\"Accuracy of rf Model:\")\r\n",
        "print(accuracy_score(y_test, y_pred_tree))\r\n",
        "print(\"Precision of rf Model:\")\r\n",
        "print (precision_score(y_test, y_pred_tree))\r\n",
        "print (\"Recall of rf Model:\" )\r\n",
        "print( recall_score(y_test, y_pred_tree))\r\n",
        "print (\"F1 Score of rf Model:\")\r\n",
        "print (f1_score(y_test, y_pred_tree))\r\n",
        "confusion_matrix_data=pd.crosstab(y_test,y_pred_tree,rownames=['Actual_Case'],colnames=['Predicted_Case'])\r\n",
        "sns.heatmap(confusion_matrix_data,annot=True)"
      ],
      "execution_count": 65,
      "outputs": [
        {
          "output_type": "stream",
          "text": [
            "Confusion Matrix\n",
            "[[56789     6]\n",
            " [   26    70]]\n",
            "Accuracy of rf Model:\n",
            "0.9994375208732489\n",
            "Precision of rf Model:\n",
            "0.9210526315789473\n",
            "Recall of rf Model:\n",
            "0.7291666666666666\n",
            "F1 Score of rf Model:\n",
            "0.8139534883720931\n"
          ],
          "name": "stdout"
        },
        {
          "output_type": "execute_result",
          "data": {
            "text/plain": [
              "<matplotlib.axes._subplots.AxesSubplot at 0x7f8e9076fcc0>"
            ]
          },
          "metadata": {
            "tags": []
          },
          "execution_count": 65
        },
        {
          "output_type": "display_data",
          "data": {
            "image/png": "[encoded data removed]",
            "text/plain": [
              "<Figure size 432x288 with 2 Axes>"
            ]
          },
          "metadata": {
            "tags": [],
            "needs_background": "light"
          }
        }
      ]
    },
    {
      "cell_type": "code",
      "metadata": {
        "colab": {
          "base_uri": "https://localhost:8080/"
        },
        "id": "StEqK_ebicqa",
        "outputId": "35d8eaa2-7a5f-41af-8d35-66df3d99a3ca"
      },
      "source": [
        "# KNN Algorithim\r\n",
        "n = 5\r\n",
        "knn = KNeighborsClassifier(n_neighbors = n)\r\n",
        "knn.fit(X_train, y_train)\r\n",
        "knn_yhat = knn.predict(X_test)\r\n",
        "y_pred_KN = knn.predict(X_test)\r\n",
        "y_pred_KN"
      ],
      "execution_count": 66,
      "outputs": [
        {
          "output_type": "execute_result",
          "data": {
            "text/plain": [
              "array([0, 0, 0, ..., 0, 0, 0])"
            ]
          },
          "metadata": {
            "tags": []
          },
          "execution_count": 66
        }
      ]
    },
    {
      "cell_type": "code",
      "metadata": {
        "colab": {
          "base_uri": "https://localhost:8080/",
          "height": 535
        },
        "id": "nlbBdSJ0jAYr",
        "outputId": "76bca849-4b37-4806-9efe-bed6141c512a"
      },
      "source": [
        "print(\"Confusion Matrix\")\r\n",
        "print(confusion_matrix(y_test,y_pred_KN))\r\n",
        "print(\"Accuracy of rf Model:\")\r\n",
        "print(accuracy_score(y_test, y_pred_KN))\r\n",
        "print(\"Precision of rf Model:\")\r\n",
        "print (precision_score(y_test, y_pred_KN))\r\n",
        "print (\"Recall of rf Model:\" )\r\n",
        "print( recall_score(y_test, y_pred_KN))\r\n",
        "print (\"F1 Score of rf Model:\")\r\n",
        "print (f1_score(y_test, y_pred_KN))\r\n",
        "confusion_matrix_data=pd.crosstab(y_test,y_pred,rownames=['Actual_Case'],colnames=['Predicted_Case'])\r\n",
        "sns.heatmap(confusion_matrix_data,annot=True)"
      ],
      "execution_count": 35,
      "outputs": [
        {
          "output_type": "stream",
          "text": [
            "Confusion Matrix\n",
            "[[56795     0]\n",
            " [   96     0]]\n",
            "Accuracy of rf Model:\n",
            "0.9983125626197465\n",
            "Precision of rf Model:\n",
            "0.0\n",
            "Recall of rf Model:\n",
            "0.0\n",
            "F1 Score of rf Model:\n",
            "0.0\n"
          ],
          "name": "stdout"
        },
        {
          "output_type": "stream",
          "text": [
            "/usr/local/lib/python3.6/dist-packages/sklearn/metrics/_classification.py:1272: UndefinedMetricWarning: Precision is ill-defined and being set to 0.0 due to no predicted samples. Use `zero_division` parameter to control this behavior.\n",
            "  _warn_prf(average, modifier, msg_start, len(result))\n"
          ],
          "name": "stderr"
        },
        {
          "output_type": "execute_result",
          "data": {
            "text/plain": [
              "<matplotlib.axes._subplots.AxesSubplot at 0x7f8e90db7668>"
            ]
          },
          "metadata": {
            "tags": []
          },
          "execution_count": 35
        },
        {
          "output_type": "display_data",
          "data": {
            "image/png": "[encoded data removed]",
            "text/plain": [
              "<Figure size 432x288 with 2 Axes>"
            ]
          },
          "metadata": {
            "tags": [],
            "needs_background": "light"
          }
        }
      ]
    },
    {
      "cell_type": "code",
      "metadata": {
        "colab": {
          "base_uri": "https://localhost:8080/"
        },
        "id": "xvQrtJcLBahW",
        "outputId": "ff7e9270-4d13-4b63-ea97-164bbe761cfe"
      },
      "source": [
        "#Resampling of data as data was imbalanced using SMOTE\r\n",
        "print(\"Label 1 before Resampling,: \", sum(y_train == 1)) \r\n",
        "print(\"Label 0 before Resampling: \", sum(y_train == 0)) \r\n",
        "\r\n",
        "sm = SMOTE(random_state = 3) \r\n",
        "X_train_sm, Y_train_sm = sm.fit_sample(X_train, y_train.ravel()) \r\n",
        "  \r\n",
        "print('Shape of train_X after Resampling : ', X_train_sm.shape) \r\n",
        "print('Shape of train_Y after Reampling,: \\n', Y_train_sm.shape) \r\n",
        "  \r\n",
        "print(\"Label 1 after Resampling,: \", sum(Y_train_sm == 1)) \r\n",
        "print(\"Label 0 after Resampling: \", sum(Y_train_sm == 0)) "
      ],
      "execution_count": 67,
      "outputs": [
        {
          "output_type": "stream",
          "text": [
            "Label 1 before Resampling,:  344\n",
            "Label 0 before Resampling:  227220\n"
          ],
          "name": "stdout"
        },
        {
          "output_type": "stream",
          "text": [
            "/usr/local/lib/python3.6/dist-packages/sklearn/utils/deprecation.py:87: FutureWarning: Function safe_indexing is deprecated; safe_indexing is deprecated in version 0.22 and will be removed in version 0.24.\n",
            "  warnings.warn(msg, category=FutureWarning)\n"
          ],
          "name": "stderr"
        },
        {
          "output_type": "stream",
          "text": [
            "Shape of train_X after Resampling :  (454440, 30)\n",
            "Shape of train_Y after Reampling,: \n",
            " (454440,)\n",
            "Label 1 after Resampling,:  227220\n",
            "Label 0 after Resampling:  227220\n"
          ],
          "name": "stdout"
        }
      ]
    },
    {
      "cell_type": "code",
      "metadata": {
        "colab": {
          "base_uri": "https://localhost:8080/",
          "height": 447
        },
        "id": "OIOaRcjPBxCj",
        "outputId": "d5a28988-a70b-4988-f38f-989d79f74656"
      },
      "source": [
        "#Classification using Logistic Regression after Resampling\r\n",
        "logistic_regression = LogisticRegression()\r\n",
        "logistic_regression.fit(X_train_sm,Y_train_sm)\r\n",
        "pred_lr_sm = logistic_regression.predict(X_test)\r\n",
        "confusionmat_lr_sm = pd.crosstab(y_test,pred_lr_sm,rownames=['Actual'],colnames=['Predicted'])\r\n",
        "sns.heatmap(confusionmat_lr_sm, annot=True)\r\n",
        "print('Accuracy:',accuracy_score(y_test,pred_lr_sm))\r\n",
        "plt.show()\r\n",
        "print(classification_report(y_test, pred_lr_sm)) "
      ],
      "execution_count": 71,
      "outputs": [
        {
          "output_type": "stream",
          "text": [
            "Accuracy: 0.9503787945369215\n"
          ],
          "name": "stdout"
        },
        {
          "output_type": "display_data",
          "data": {
            "image/png": "[encoded data removed]",
            "text/plain": [
              "<Figure size 432x288 with 2 Axes>"
            ]
          },
          "metadata": {
            "tags": [],
            "needs_background": "light"
          }
        },
        {
          "output_type": "stream",
          "text": [
            "              precision    recall  f1-score   support\n",
            "\n",
            "           0       1.00      0.95      0.97     56795\n",
            "           1       0.03      0.89      0.06        96\n",
            "\n",
            "    accuracy                           0.95     56891\n",
            "   macro avg       0.51      0.92      0.52     56891\n",
            "weighted avg       1.00      0.95      0.97     56891\n",
            "\n"
          ],
          "name": "stdout"
        }
      ]
    },
    {
      "cell_type": "code",
      "metadata": {
        "colab": {
          "base_uri": "https://localhost:8080/",
          "height": 447
        },
        "id": "sbLuAfYLB5kL",
        "outputId": "c19bd116-818f-4535-e0f6-0422086e9a6d"
      },
      "source": [
        "#Classification using RandomForest Classifier after Resampling\r\n",
        "Randomforest = RandomForestClassifier()\r\n",
        "Randomforest.fit(X_train_sm,Y_train_sm)\r\n",
        "pred_rf_sm = Randomforest.predict(X_test)\r\n",
        "confusionmat_rf_sm = pd.crosstab(y_test,pred_rf_sm,rownames=['Actual'],colnames=['Predicted'])\r\n",
        "sns.heatmap(confusionmat_rf_sm,annot=True)\r\n",
        "print('Accuracy:',accuracy_score(y_test, pred_rf_sm))\r\n",
        "plt.show()\r\n",
        "print(classification_report(y_test, pred_rf_sm))"
      ],
      "execution_count": 69,
      "outputs": [
        {
          "output_type": "stream",
          "text": [
            "Accuracy: 0.9995254082368037\n"
          ],
          "name": "stdout"
        },
        {
          "output_type": "display_data",
          "data": {
            "image/png": "[encoded data removed]",
            "text/plain": [
              "<Figure size 432x288 with 2 Axes>"
            ]
          },
          "metadata": {
            "tags": [],
            "needs_background": "light"
          }
        },
        {
          "output_type": "stream",
          "text": [
            "              precision    recall  f1-score   support\n",
            "\n",
            "           0       1.00      1.00      1.00     56795\n",
            "           1       0.88      0.83      0.86        96\n",
            "\n",
            "    accuracy                           1.00     56891\n",
            "   macro avg       0.94      0.92      0.93     56891\n",
            "weighted avg       1.00      1.00      1.00     56891\n",
            "\n"
          ],
          "name": "stdout"
        }
      ]
    },
    {
      "cell_type": "code",
      "metadata": {
        "colab": {
          "base_uri": "https://localhost:8080/",
          "height": 447
        },
        "id": "FI1t5i_bE_E3",
        "outputId": "c55a64a8-6097-4c8c-cdee-d4ee071ee6a7"
      },
      "source": [
        "#Classification using DecisionTree Classifier after Resampling\r\n",
        "dt = DecisionTreeClassifier()\r\n",
        "dt.fit(X_train_sm,Y_train_sm)\r\n",
        "pred_dt_sm = dt.predict(X_test)\r\n",
        "confusionmat_dt_sm = pd.crosstab(y_test,pred_dt_sm,rownames=['Actual'],colnames=['Predicted'])\r\n",
        "sns.heatmap(confusionmat_dt_sm,annot=True)\r\n",
        "print('Accuracy:',accuracy_score(y_test, pred_dt_sm))\r\n",
        "plt.show()\r\n",
        "print(classification_report(y_test, pred_dt_sm)) "
      ],
      "execution_count": 70,
      "outputs": [
        {
          "output_type": "stream",
          "text": [
            "Accuracy: 0.9978731258019722\n"
          ],
          "name": "stdout"
        },
        {
          "output_type": "display_data",
          "data": {
            "image/png": "[encoded data removed]",
            "text/plain": [
              "<Figure size 432x288 with 2 Axes>"
            ]
          },
          "metadata": {
            "tags": [],
            "needs_background": "light"
          }
        },
        {
          "output_type": "stream",
          "text": [
            "              precision    recall  f1-score   support\n",
            "\n",
            "           0       1.00      1.00      1.00     56795\n",
            "           1       0.43      0.81      0.56        96\n",
            "\n",
            "    accuracy                           1.00     56891\n",
            "   macro avg       0.72      0.91      0.78     56891\n",
            "weighted avg       1.00      1.00      1.00     56891\n",
            "\n"
          ],
          "name": "stdout"
        }
      ]
    },
    {
      "cell_type": "code",
      "metadata": {
        "colab": {
          "base_uri": "https://localhost:8080/",
          "height": 447
        },
        "id": "8hk9HNa6n2NL",
        "outputId": "6eaaeb0a-c052-4a0d-8860-50f6bab6693a"
      },
      "source": [
        "#Classification using KNN Classifier after Resampling\r\n",
        "n = 5\r\n",
        "knn = KNeighborsClassifier(n_neighbors = n)\r\n",
        "knn.fit(X_train_sm,Y_train_sm)\r\n",
        "pred_dt_sm = dt.predict(X_test)\r\n",
        "confusionmat_dt_sm = pd.crosstab(y_test,pred_dt_sm,rownames=['Actual'],colnames=['Predicted'])\r\n",
        "sns.heatmap(confusionmat_dt_sm,annot=True)\r\n",
        "print('Accuracy:',accuracy_score(y_test, pred_dt_sm))\r\n",
        "plt.show()\r\n",
        "print(classification_report(y_test, pred_dt_sm)) "
      ],
      "execution_count": 73,
      "outputs": [
        {
          "output_type": "stream",
          "text": [
            "Accuracy: 0.9978731258019722\n"
          ],
          "name": "stdout"
        },
        {
          "output_type": "display_data",
          "data": {
            "image/png": "[encoded data removed]",
            "text/plain": [
              "<Figure size 432x288 with 2 Axes>"
            ]
          },
          "metadata": {
            "tags": [],
            "needs_background": "light"
          }
        },
        {
          "output_type": "stream",
          "text": [
            "              precision    recall  f1-score   support\n",
            "\n",
            "           0       1.00      1.00      1.00     56795\n",
            "           1       0.43      0.81      0.56        96\n",
            "\n",
            "    accuracy                           1.00     56891\n",
            "   macro avg       0.72      0.91      0.78     56891\n",
            "weighted avg       1.00      1.00      1.00     56891\n",
            "\n"
          ],
          "name": "stdout"
        }
      ]
    },
    {
      "cell_type": "code",
      "metadata": {
        "id": "sE3VBeLftVSN"
      },
      "source": [
        "# Test Dataset\r\n",
        "fraud_test = pd.read_csv('/content/TEST[1].csv')"
      ],
      "execution_count": 74,
      "outputs": []
    },
    {
      "cell_type": "code",
      "metadata": {
        "colab": {
          "base_uri": "https://localhost:8080/",
          "height": 195
        },
        "id": "2xhP1Ganqdxk",
        "outputId": "d3450f49-6e7b-45c3-ec20-9fa82c550a3a"
      },
      "source": [
        "#prediction of test data on the trained model i.e. on random forest as its accuracy is more among all the trained model\r\n",
        "final_predictions = clf_rf.predict(fraud_test)\r\n",
        "predictions_data = pd.DataFrame(data=final_predictions, columns=[\"Class\"])\r\n",
        "predictions_data.head()"
      ],
      "execution_count": 75,
      "outputs": [
        {
          "output_type": "execute_result",
          "data": {
            "text/html": [
              "<div>\n",
              "<style scoped>\n",
              "    .dataframe tbody tr th:only-of-type {\n",
              "        vertical-align: middle;\n",
              "    }\n",
              "\n",
              "    .dataframe tbody tr th {\n",
              "        vertical-align: top;\n",
              "    }\n",
              "\n",
              "    .dataframe thead th {\n",
              "        text-align: right;\n",
              "    }\n",
              "</style>\n",
              "<table border=\"1\" class=\"dataframe\">\n",
              "  <thead>\n",
              "    <tr style=\"text-align: right;\">\n",
              "      <th></th>\n",
              "      <th>Class</th>\n",
              "    </tr>\n",
              "  </thead>\n",
              "  <tbody>\n",
              "    <tr>\n",
              "      <th>0</th>\n",
              "      <td>0</td>\n",
              "    </tr>\n",
              "    <tr>\n",
              "      <th>1</th>\n",
              "      <td>0</td>\n",
              "    </tr>\n",
              "    <tr>\n",
              "      <th>2</th>\n",
              "      <td>0</td>\n",
              "    </tr>\n",
              "    <tr>\n",
              "      <th>3</th>\n",
              "      <td>1</td>\n",
              "    </tr>\n",
              "    <tr>\n",
              "      <th>4</th>\n",
              "      <td>0</td>\n",
              "    </tr>\n",
              "  </tbody>\n",
              "</table>\n",
              "</div>"
            ],
            "text/plain": [
              "   Class\n",
              "0      0\n",
              "1      0\n",
              "2      0\n",
              "3      1\n",
              "4      0"
            ]
          },
          "metadata": {
            "tags": []
          },
          "execution_count": 75
        }
      ]
    },
    {
      "cell_type": "code",
      "metadata": {
        "colab": {
          "base_uri": "https://localhost:8080/",
          "height": 195
        },
        "id": "jpb4YGsmsNKF",
        "outputId": "11202c9f-8651-462e-fa48-51f2536afde4"
      },
      "source": [
        "fraud_test_index = fraud_test[[\"Index\"]].copy()\r\n",
        "fraud_test_index.head()"
      ],
      "execution_count": 76,
      "outputs": [
        {
          "output_type": "execute_result",
          "data": {
            "text/html": [
              "<div>\n",
              "<style scoped>\n",
              "    .dataframe tbody tr th:only-of-type {\n",
              "        vertical-align: middle;\n",
              "    }\n",
              "\n",
              "    .dataframe tbody tr th {\n",
              "        vertical-align: top;\n",
              "    }\n",
              "\n",
              "    .dataframe thead th {\n",
              "        text-align: right;\n",
              "    }\n",
              "</style>\n",
              "<table border=\"1\" class=\"dataframe\">\n",
              "  <thead>\n",
              "    <tr style=\"text-align: right;\">\n",
              "      <th></th>\n",
              "      <th>Index</th>\n",
              "    </tr>\n",
              "  </thead>\n",
              "  <tbody>\n",
              "    <tr>\n",
              "      <th>0</th>\n",
              "      <td>0</td>\n",
              "    </tr>\n",
              "    <tr>\n",
              "      <th>1</th>\n",
              "      <td>1</td>\n",
              "    </tr>\n",
              "    <tr>\n",
              "      <th>2</th>\n",
              "      <td>2</td>\n",
              "    </tr>\n",
              "    <tr>\n",
              "      <th>3</th>\n",
              "      <td>3</td>\n",
              "    </tr>\n",
              "    <tr>\n",
              "      <th>4</th>\n",
              "      <td>4</td>\n",
              "    </tr>\n",
              "  </tbody>\n",
              "</table>\n",
              "</div>"
            ],
            "text/plain": [
              "   Index\n",
              "0      0\n",
              "1      1\n",
              "2      2\n",
              "3      3\n",
              "4      4"
            ]
          },
          "metadata": {
            "tags": []
          },
          "execution_count": 76
        }
      ]
    },
    {
      "cell_type": "code",
      "metadata": {
        "colab": {
          "base_uri": "https://localhost:8080/",
          "height": 195
        },
        "id": "z01bzOart-qQ",
        "outputId": "eb0049b9-c843-466b-eeed-d3f3ab7f6419"
      },
      "source": [
        "final_data=pd.concat([fraud_test_index, predictions_data], axis=1, sort=True)\r\n",
        "final_data.head()"
      ],
      "execution_count": 77,
      "outputs": [
        {
          "output_type": "execute_result",
          "data": {
            "text/html": [
              "<div>\n",
              "<style scoped>\n",
              "    .dataframe tbody tr th:only-of-type {\n",
              "        vertical-align: middle;\n",
              "    }\n",
              "\n",
              "    .dataframe tbody tr th {\n",
              "        vertical-align: top;\n",
              "    }\n",
              "\n",
              "    .dataframe thead th {\n",
              "        text-align: right;\n",
              "    }\n",
              "</style>\n",
              "<table border=\"1\" class=\"dataframe\">\n",
              "  <thead>\n",
              "    <tr style=\"text-align: right;\">\n",
              "      <th></th>\n",
              "      <th>Index</th>\n",
              "      <th>Class</th>\n",
              "    </tr>\n",
              "  </thead>\n",
              "  <tbody>\n",
              "    <tr>\n",
              "      <th>0</th>\n",
              "      <td>0</td>\n",
              "      <td>0</td>\n",
              "    </tr>\n",
              "    <tr>\n",
              "      <th>1</th>\n",
              "      <td>1</td>\n",
              "      <td>0</td>\n",
              "    </tr>\n",
              "    <tr>\n",
              "      <th>2</th>\n",
              "      <td>2</td>\n",
              "      <td>0</td>\n",
              "    </tr>\n",
              "    <tr>\n",
              "      <th>3</th>\n",
              "      <td>3</td>\n",
              "      <td>1</td>\n",
              "    </tr>\n",
              "    <tr>\n",
              "      <th>4</th>\n",
              "      <td>4</td>\n",
              "      <td>0</td>\n",
              "    </tr>\n",
              "  </tbody>\n",
              "</table>\n",
              "</div>"
            ],
            "text/plain": [
              "   Index  Class\n",
              "0      0      0\n",
              "1      1      0\n",
              "2      2      0\n",
              "3      3      1\n",
              "4      4      0"
            ]
          },
          "metadata": {
            "tags": []
          },
          "execution_count": 77
        }
      ]
    },
    {
      "cell_type": "code",
      "metadata": {
        "id": "q4XnvWdtsT3Y"
      },
      "source": [
        "#conversion of final predicted data into csv file\r\n",
        "final_data.to_csv('/content/target_prediction.csv', index=False)"
      ],
      "execution_count": 78,
      "outputs": []
    }
  ]
}